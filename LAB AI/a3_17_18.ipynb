{
 "cells": [
  {
   "cell_type": "code",
   "execution_count": 5,
   "metadata": {},
   "outputs": [
    {
     "name": "stdout",
     "output_type": "stream",
     "text": [
      "1\n",
      "1\n",
      "2\n",
      "2\n",
      "3\n",
      "3\n",
      "4\n",
      "4\n",
      "5\n",
      "5\n",
      "5\n",
      "[1, 1, 2, 2, 3, 3, 4, 4, 5, 5, 5]\n",
      "multi occurence list: [1, 2, 3, 4, 5]\n"
     ]
    }
   ],
   "source": [
    "lis=[]\n",
    "lis2=[]\n",
    "\n",
    "while len(lis)<11:\n",
    "    n=int(input())\n",
    "   \n",
    "    if (lis.count(n) < 4):\n",
    "        \n",
    "        lis.append(n)\n",
    "        if lis.count(n)>=2 and n not in lis2 :\n",
    "            lis2.append(n)\n",
    "        \n",
    "    else:\n",
    "        print(\"5th occurence\")\n",
    "        \n",
    "print(lis) \n",
    "print(\"multi occurence list:\",lis2)\n",
    "\n",
    "\n",
    "\n",
    "# num=lis.count(4)\n",
    "\n",
    "# print(num)\n",
    "    \n",
    " \n",
    "\n"
   ]
  },
  {
   "cell_type": "code",
   "execution_count": null,
   "metadata": {},
   "outputs": [],
   "source": []
  },
  {
   "cell_type": "code",
   "execution_count": null,
   "metadata": {},
   "outputs": [],
   "source": []
  }
 ],
 "metadata": {
  "kernelspec": {
   "display_name": "Python 3",
   "language": "python",
   "name": "python3"
  },
  "language_info": {
   "codemirror_mode": {
    "name": "ipython",
    "version": 3
   },
   "file_extension": ".py",
   "mimetype": "text/x-python",
   "name": "python",
   "nbconvert_exporter": "python",
   "pygments_lexer": "ipython3",
   "version": "3.7.1"
  }
 },
 "nbformat": 4,
 "nbformat_minor": 2
}
