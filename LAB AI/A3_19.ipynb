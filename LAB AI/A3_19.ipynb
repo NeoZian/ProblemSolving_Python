{
 "cells": [
  {
   "cell_type": "code",
   "execution_count": 11,
   "metadata": {},
   "outputs": [
    {
     "name": "stdout",
     "output_type": "stream",
     "text": [
      "[7, 3, 1, 7, 3]\n",
      "[2, 6]\n"
     ]
    }
   ],
   "source": [
    "lis=[7,3,2,1,7,6,3]\n",
    "\n",
    "lis2=[]\n",
    "lis3=[]\n",
    "i=0\n",
    "for i in lis:\n",
    "    if(i%2!=0):\n",
    "        lis2.append(i)\n",
    "    else:\n",
    "        lis3.append(i)\n",
    "print(lis2)\n",
    "print(lis3)\n",
    "lis2.sort()\n",
    "\n",
    "        "
   ]
  },
  {
   "cell_type": "code",
   "execution_count": 4,
   "metadata": {},
   "outputs": [
    {
     "name": "stdout",
     "output_type": "stream",
     "text": [
      "[1, 3, 5, 7, 9]\n"
     ]
    }
   ],
   "source": [
    "print(lis2)"
   ]
  },
  {
   "cell_type": "code",
   "execution_count": 5,
   "metadata": {},
   "outputs": [
    {
     "name": "stdout",
     "output_type": "stream",
     "text": [
      "[1, 3, 5, 7, 9, 2, 6]\n"
     ]
    }
   ],
   "source": [
    "list=[]\n",
    "list=lis2+lis3\n",
    "\n",
    "print(list)"
   ]
  },
  {
   "cell_type": "code",
   "execution_count": 12,
   "metadata": {},
   "outputs": [
    {
     "name": "stdout",
     "output_type": "stream",
     "text": [
      "[3, 1, 6]\n",
      "[7, 2, 7, 3]\n"
     ]
    }
   ],
   "source": [
    "even=[]\n",
    "odd=[]\n",
    "for i in range(0,len(lis),1):\n",
    "    if i%2==0:\n",
    "        even.append(lis[i])\n",
    "    else:\n",
    "        odd.append(lis[i])\n",
    "print(odd)        \n",
    "print(even)    \n",
    "    "
   ]
  },
  {
   "cell_type": "code",
   "execution_count": 30,
   "metadata": {},
   "outputs": [
    {
     "name": "stdout",
     "output_type": "stream",
     "text": [
      "[2, 3, 3, 1, 7, 6, 7]\n"
     ]
    }
   ],
   "source": [
    "even.sort()\n",
    "odd.sort()\n",
    "\n",
    "j=0\n",
    "\n",
    "for i in range(0,len(lis),1):\n",
    "    if i%2==0:\n",
    "        lis[i]=even[j]\n",
    "        j=j+1\n",
    "print(lis)        \n",
    "        "
   ]
  },
  {
   "cell_type": "code",
   "execution_count": null,
   "metadata": {},
   "outputs": [],
   "source": []
  }
 ],
 "metadata": {
  "kernelspec": {
   "display_name": "Python 3",
   "language": "python",
   "name": "python3"
  },
  "language_info": {
   "codemirror_mode": {
    "name": "ipython",
    "version": 3
   },
   "file_extension": ".py",
   "mimetype": "text/x-python",
   "name": "python",
   "nbconvert_exporter": "python",
   "pygments_lexer": "ipython3",
   "version": "3.7.1"
  }
 },
 "nbformat": 4,
 "nbformat_minor": 2
}
