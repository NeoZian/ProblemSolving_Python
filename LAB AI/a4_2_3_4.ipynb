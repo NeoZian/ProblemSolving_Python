{
 "cells": [
  {
   "cell_type": "code",
   "execution_count": 5,
   "metadata": {},
   "outputs": [
    {
     "name": "stdout",
     "output_type": "stream",
     "text": [
      "1\n",
      "2\n",
      "3\n",
      "1\n",
      "2\n",
      "2\n",
      "3\n",
      "4\n",
      "5\n",
      "5\n",
      "2\n",
      "2\n",
      "1\n",
      "1\n",
      "1\n",
      "2\n",
      "3\n",
      "2\n",
      "3\n",
      "4\n",
      "[2, 2, 2, 4, 2, 2, 2, 2, 4]\n",
      "[4, 2, 2, 2, 2, 4, 2, 2, 2]\n",
      "8\n",
      "not exist\n"
     ]
    }
   ],
   "source": [
    "lis=[]\n",
    "lis2=[]\n",
    "for i in range(20):\n",
    "    n=int(input())\n",
    "    lis.append(n)\n",
    "    if lis[i]%2==0:\n",
    "        lis2.append(n)\n",
    "print(lis2)\n",
    "lis2.reverse()\n",
    "print(lis2)\n",
    "\n",
    "n2=int(input())\n",
    "\n",
    "if n2 in lis:\n",
    "    print(\"exist\")\n",
    "else:\n",
    "    print(\"not exist\")\n",
    "    "
   ]
  },
  {
   "cell_type": "code",
   "execution_count": null,
   "metadata": {},
   "outputs": [],
   "source": []
  }
 ],
 "metadata": {
  "kernelspec": {
   "display_name": "Python 3",
   "language": "python",
   "name": "python3"
  },
  "language_info": {
   "codemirror_mode": {
    "name": "ipython",
    "version": 3
   },
   "file_extension": ".py",
   "mimetype": "text/x-python",
   "name": "python",
   "nbconvert_exporter": "python",
   "pygments_lexer": "ipython3",
   "version": "3.7.1"
  }
 },
 "nbformat": 4,
 "nbformat_minor": 2
}
