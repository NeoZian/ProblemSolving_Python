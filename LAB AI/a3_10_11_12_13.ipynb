{
 "cells": [
  {
   "cell_type": "code",
   "execution_count": 5,
   "metadata": {},
   "outputs": [
    {
     "name": "stdout",
     "output_type": "stream",
     "text": [
      "2\n",
      "33\n",
      "-23\n",
      "4\n",
      "20\n",
      "[2, 33, -23, 4, 20]\n",
      "reverse: [20, 4, -23, 33, 2]\n",
      "sorted: [-23, 2, 4, 20, 33]\n",
      "descending: [33, 20, 4, 2, -23]\n"
     ]
    }
   ],
   "source": [
    "lis=[]\n",
    "\n",
    "for i in range(5):\n",
    "    n=int(input())\n",
    "    lis.append(n)\n",
    "\n",
    "print(lis)\n",
    "\n",
    "lis2=lis\n",
    "lis2.reverse()\n",
    "\n",
    "print(\"reverse:\",lis2)\n",
    "\n",
    "lis2.sort()\n",
    "\n",
    "print(\"sorted:\",lis2)\n",
    "\n",
    "lis2.reverse()\n",
    "\n",
    "print(\"descending:\",lis2)\n",
    "\n",
    "\n"
   ]
  },
  {
   "cell_type": "code",
   "execution_count": null,
   "metadata": {},
   "outputs": [],
   "source": []
  }
 ],
 "metadata": {
  "kernelspec": {
   "display_name": "Python 3",
   "language": "python",
   "name": "python3"
  },
  "language_info": {
   "codemirror_mode": {
    "name": "ipython",
    "version": 3
   },
   "file_extension": ".py",
   "mimetype": "text/x-python",
   "name": "python",
   "nbconvert_exporter": "python",
   "pygments_lexer": "ipython3",
   "version": "3.7.1"
  }
 },
 "nbformat": 4,
 "nbformat_minor": 2
}
