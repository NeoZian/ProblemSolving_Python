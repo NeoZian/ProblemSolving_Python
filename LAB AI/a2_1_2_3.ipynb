{
 "cells": [
  {
   "cell_type": "code",
   "execution_count": 8,
   "metadata": {},
   "outputs": [
    {
     "name": "stdout",
     "output_type": "stream",
     "text": [
      "enter number4\n",
      "* * * * "
     ]
    }
   ],
   "source": [
    "\n",
    "n=int(input(\"enter number\"))\n",
    "\n",
    "for i in range(n):\n",
    "    print(\"*\",end=\" \")"
   ]
  },
  {
   "cell_type": "code",
   "execution_count": 19,
   "metadata": {},
   "outputs": [
    {
     "name": "stdout",
     "output_type": "stream",
     "text": [
      "enter row3\n",
      "enter column5\n",
      "* * * * * \n",
      "\n",
      "* * * * * \n",
      "\n",
      "* * * * * \n",
      "\n"
     ]
    }
   ],
   "source": [
    "row=int(input(\"enter row\"))\n",
    "column=int(input(\"enter column\"))\n",
    "\n",
    "for i in range(row):\n",
    "    for j in range(column):\n",
    "        print(\"*\",end=' ')\n",
    "    print(\"\\n\")   "
   ]
  },
  {
   "cell_type": "code",
   "execution_count": 25,
   "metadata": {},
   "outputs": [
    {
     "name": "stdout",
     "output_type": "stream",
     "text": [
      "3\n",
      "\n",
      "\n",
      "*\n",
      "\n",
      "**\n",
      "\n",
      "***\n",
      "\n"
     ]
    }
   ],
   "source": [
    "n2=int(input())\n",
    "for i in range(n2+1):\n",
    "#     print(i)\n",
    "    for j in range(i):\n",
    "        print(\"*\",end='')\n",
    "    print(\"\\n\")    "
   ]
  },
  {
   "cell_type": "code",
   "execution_count": null,
   "metadata": {},
   "outputs": [],
   "source": []
  }
 ],
 "metadata": {
  "kernelspec": {
   "display_name": "Python 3",
   "language": "python",
   "name": "python3"
  },
  "language_info": {
   "codemirror_mode": {
    "name": "ipython",
    "version": 3
   },
   "file_extension": ".py",
   "mimetype": "text/x-python",
   "name": "python",
   "nbconvert_exporter": "python",
   "pygments_lexer": "ipython3",
   "version": "3.7.1"
  }
 },
 "nbformat": 4,
 "nbformat_minor": 2
}
