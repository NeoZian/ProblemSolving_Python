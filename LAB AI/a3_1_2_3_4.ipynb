{
 "cells": [
  {
   "cell_type": "code",
   "execution_count": 19,
   "metadata": {},
   "outputs": [
    {
     "name": "stdout",
     "output_type": "stream",
     "text": [
      "5\n",
      "8\n",
      "10\n",
      "11\n",
      "13\n",
      "[5, 8, 10, 11, 13]\n"
     ]
    }
   ],
   "source": [
    "lis=[]\n",
    "\n",
    "for i in range(0,5):\n",
    "    \n",
    "    n=int(input())\n",
    "    lis.append(n)\n",
    "print(lis)    "
   ]
  },
  {
   "cell_type": "code",
   "execution_count": 20,
   "metadata": {},
   "outputs": [
    {
     "name": "stdout",
     "output_type": "stream",
     "text": [
      "[5, 8, 10, 11, 13]\n"
     ]
    }
   ],
   "source": [
    "lis2=lis\n",
    "print(lis2)"
   ]
  },
  {
   "cell_type": "code",
   "execution_count": 21,
   "metadata": {},
   "outputs": [
    {
     "name": "stdout",
     "output_type": "stream",
     "text": [
      "[13, 11, 10, 8, 5]\n"
     ]
    }
   ],
   "source": [
    "lis2.reverse()\n",
    "print(lis2)"
   ]
  },
  {
   "cell_type": "code",
   "execution_count": 26,
   "metadata": {},
   "outputs": [
    {
     "name": "stdout",
     "output_type": "stream",
     "text": [
      "8\n",
      "5\n",
      "less than 10: 2\n"
     ]
    }
   ],
   "source": [
    "count=0\n",
    "for i in lis:\n",
    "    if i<10:\n",
    "        print(i)\n",
    "        count=count+1;\n",
    "\n",
    "        \n",
    "print(\"less than 10:\",count)        "
   ]
  },
  {
   "cell_type": "code",
   "execution_count": null,
   "metadata": {},
   "outputs": [],
   "source": []
  }
 ],
 "metadata": {
  "kernelspec": {
   "display_name": "Python 3",
   "language": "python",
   "name": "python3"
  },
  "language_info": {
   "codemirror_mode": {
    "name": "ipython",
    "version": 3
   },
   "file_extension": ".py",
   "mimetype": "text/x-python",
   "name": "python",
   "nbconvert_exporter": "python",
   "pygments_lexer": "ipython3",
   "version": "3.7.1"
  }
 },
 "nbformat": 4,
 "nbformat_minor": 2
}
