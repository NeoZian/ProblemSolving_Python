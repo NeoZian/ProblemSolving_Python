{
 "cells": [
  {
   "cell_type": "code",
   "execution_count": 10,
   "metadata": {
    "scrolled": true
   },
   "outputs": [
    {
     "name": "stdout",
     "output_type": "stream",
     "text": [
      "enter 15 numbers:\n",
      "1\n",
      "2\n",
      "3\n",
      "3\n",
      "2\n",
      "1\n",
      "1\n",
      "2\n",
      "3\n",
      "4\n",
      "5\n",
      "6\n",
      "5\n",
      "4\n",
      "5\n",
      "Counter({1: 3, 2: 3, 3: 3, 5: 3, 4: 2, 6: 1})\n"
     ]
    }
   ],
   "source": [
    "import collections\n",
    "print(\"enter 15 numbers:\")\n",
    "lis=[]\n",
    "for i in range(15):\n",
    "    n=int(input())\n",
    "    lis.append(n)\n",
    "# flag=0    \n",
    "# for i in lis:\n",
    "\n",
    "        \n",
    "#         print(i,\" \",lis.count(i),\" times!\")\n",
    "\n",
    "lis2=collections.Counter(lis)\n",
    "print(lis2)\n",
    "      \n",
    "    "
   ]
  },
  {
   "cell_type": "markdown",
   "metadata": {},
   "source": [
    "#### 8"
   ]
  },
  {
   "cell_type": "code",
   "execution_count": null,
   "metadata": {},
   "outputs": [],
   "source": []
  }
 ],
 "metadata": {
  "kernelspec": {
   "display_name": "Python 3",
   "language": "python",
   "name": "python3"
  },
  "language_info": {
   "codemirror_mode": {
    "name": "ipython",
    "version": 3
   },
   "file_extension": ".py",
   "mimetype": "text/x-python",
   "name": "python",
   "nbconvert_exporter": "python",
   "pygments_lexer": "ipython3",
   "version": "3.7.1"
  }
 },
 "nbformat": 4,
 "nbformat_minor": 2
}
