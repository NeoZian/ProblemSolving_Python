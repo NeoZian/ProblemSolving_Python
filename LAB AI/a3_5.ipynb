{
 "cells": [
  {
   "cell_type": "code",
   "execution_count": 9,
   "metadata": {},
   "outputs": [
    {
     "name": "stdout",
     "output_type": "stream",
     "text": [
      "1\n",
      "2\n",
      "3\n",
      "4\n",
      "3\n",
      "found at: 2 Try again:\n",
      "3\n",
      "found at: 2 Try again:\n",
      "3\n",
      "found at: 2 Try again:\n",
      "6\n",
      "7\n"
     ]
    }
   ],
   "source": [
    "\n",
    "lis=[]\n",
    "while len(lis)<6:\n",
    "    n=input()\n",
    "    if n in lis:\n",
    "        print(\"found at:\",lis.index(n),\"Try again:\")\n",
    "    else:\n",
    "        lis.append(n)\n",
    "   "
   ]
  },
  {
   "cell_type": "code",
   "execution_count": 10,
   "metadata": {},
   "outputs": [
    {
     "name": "stdout",
     "output_type": "stream",
     "text": [
      "['1', '2', '3', '4', '6', '7']\n"
     ]
    }
   ],
   "source": [
    "print(lis)"
   ]
  },
  {
   "cell_type": "code",
   "execution_count": null,
   "metadata": {},
   "outputs": [],
   "source": []
  }
 ],
 "metadata": {
  "kernelspec": {
   "display_name": "Python 3",
   "language": "python",
   "name": "python3"
  },
  "language_info": {
   "codemirror_mode": {
    "name": "ipython",
    "version": 3
   },
   "file_extension": ".py",
   "mimetype": "text/x-python",
   "name": "python",
   "nbconvert_exporter": "python",
   "pygments_lexer": "ipython3",
   "version": "3.7.1"
  }
 },
 "nbformat": 4,
 "nbformat_minor": 2
}
